{
  "nbformat": 4,
  "nbformat_minor": 0,
  "metadata": {
    "colab": {
      "name": "Copy of hwk2.ipynb",
      "private_outputs": true,
      "provenance": [],
      "collapsed_sections": []
    },
    "kernelspec": {
      "name": "python3",
      "display_name": "Python 3"
    },
    "language_info": {
      "codemirror_mode": {
        "name": "ipython",
        "version": 3
      },
      "file_extension": ".py",
      "mimetype": "text/x-python",
      "name": "python",
      "nbconvert_exporter": "python",
      "pygments_lexer": "ipython3",
      "version": "3.6.2"
    },
    "accelerator": "GPU"
  },
  "cells": [
    {
      "cell_type": "markdown",
      "metadata": {
        "id": "pSy-sfxOsclS"
      },
      "source": [
        "# CS 447 Homework 2 $-$ Text Clasification with Neural Networks\n",
        "In this homework, you will build machine learning models to detect the sentiment of movie reviews using the IMDb movie reviews dataset. Specifically, you will implement classifiers based on Convolutional Neural Networks (CNN's) and Recurrent Neural Networks (RNN's).\n",
        "\n",
        "We highly recommend that you take a look at the PyTorch tutorials before starting this assignment:\n",
        "<ul>\n",
        "<li>https://pytorch.org/tutorials/beginner/pytorch_with_examples.html\n",
        "<li>https://pytorch.org/tutorials/beginner/data_loading_tutorial.html\n",
        "<li>https://github.com/yunjey/pytorch-tutorial\n",
        "</ul>\n",
        "\n",
        "We suggest that you select \"GPU\" as your runtime type, as this will speed up the training of your models. You can find this by going to <TT>Runtime > Change Runtime Type</TT> and select \"GPU\" from the dropdown menu."
      ]
    },
    {
      "cell_type": "code",
      "metadata": {
        "id": "EyCOvTRQ1nb-"
      },
      "source": [
        "# Don't import any other libraries\n",
        "from collections import defaultdict\n",
        "import numpy as np\n",
        "import torch\n",
        "import torch.nn as nn\n",
        "import torch.nn.functional as F\n",
        "import torch.optim as optim\n",
        "from torch.utils import data\n",
        "import torchtext \n",
        "import random\n",
        "\n",
        "device = torch.device('cuda' if torch.cuda.is_available() else 'cpu')\n",
        "\n",
        "if __name__=='__main__':\n",
        "    print('Using device:', device)"
      ],
      "execution_count": null,
      "outputs": []
    },
    {
      "cell_type": "markdown",
      "metadata": {
        "id": "zHbJ1-aDsWCG"
      },
      "source": [
        "# Step 1: Download the Data\n",
        "First we will download the dataset using [torchtext](https://torchtext.readthedocs.io/en/latest/index.html), which is a package that supports NLP for PyTorch. The following cell will get you `train_data` and `test_data`. It also does some basic tokenization.\n",
        "\n",
        "*   To access the list of textual tokens for the *i*th example, use `train_data[i][1]`\n",
        "*   To access the label for the *i*th example, use `train_data[i][0]`\n",
        "\n"
      ]
    },
    {
      "cell_type": "code",
      "metadata": {
        "id": "dfX3bNby8FYL"
      },
      "source": [
        "### DO NOT EDIT ###\n",
        "\n",
        "def preprocess(review):\n",
        "    '''\n",
        "    Simple preprocessing function.\n",
        "    '''\n",
        "    res = []\n",
        "    for x in review.split(' '):\n",
        "        remove_beg=True if x[0] in {'(', '\"', \"'\"} else False\n",
        "        remove_end=True if x[-1] in {'.', ',', ';', ':', '?', '!', '\"', \"'\", ')'} else False\n",
        "        if remove_beg and remove_end: res += [x[0], x[1:-1], x[-1]]\n",
        "        elif remove_beg: res += [x[0], x[1:]]\n",
        "        elif remove_end: res += [x[:-1], x[-1]]\n",
        "        else: res += [x]\n",
        "    return res\n",
        "\n",
        "if __name__=='__main__':\n",
        "    train_data = torchtext.datasets.IMDB(root='.data', split='train')\n",
        "    train_data = list(train_data)\n",
        "    train_data = [(x[0], preprocess(x[1])) for x in train_data]\n",
        "    train_data, test_data = train_data[0:10000] + train_data[12500:12500+10000], train_data[10000:12500] + train_data[12500+10000:], \n",
        "\n",
        "    print('Num. Train Examples:', len(train_data))\n",
        "    print('Num. Test Examples:', len(test_data))\n",
        "\n",
        "    print(\"\\nSAMPLE DATA:\")\n",
        "    for x in random.sample(train_data, 5):\n",
        "        print('Sample text:', x[1])\n",
        "        print('Sample label:', x[0], '\\n')"
      ],
      "execution_count": null,
      "outputs": []
    },
    {
      "cell_type": "markdown",
      "metadata": {
        "id": "_kfg8RcyskyU"
      },
      "source": [
        "# Step 2: Create Dataloader [20 points]\n",
        "\n",
        "\n"
      ]
    },
    {
      "cell_type": "markdown",
      "metadata": {
        "id": "lvFX-iX5oq7T"
      },
      "source": [
        "## <font color='red'>TODO:</font> Define the Dataset Class [20 Points]\n",
        "\n",
        "In the following cell, we will define the <b>dataset</b> class. The dataset contains the tokenized data for your model. You need to implement the following functions: \n",
        "\n",
        "*   <b>` build_dictionary(self)`:</b>  <b>[10 points]</b> Creates the dictionaries `idx2word` and `word2idx`. You will represent each word in the dataset with a unique index, and keep track of this in these dictionaries. Use the hyperparameter `threshold` to control which words appear in the dictionary: a training word’s frequency should be `>= threshold` to be included in the dictionary.\n",
        "\n",
        "* <b>`convert_text(self)`:</b> Converts each review in the dataset to a list of indices, given by your `word2idx` dictionary. You should store this in the `textual_ids` variable, and the function does not return anything. If a word is not present in the  `word2idx` dictionary, you should use the `<UNK>` token for that word. Be sure to append the `<END>` token to the end of each review.\n",
        "\n",
        "*   <b>` get_text(self, idx) `:</b> Return the review at `idx` in the dataset as an array of indices corresponding to the words in the review. If the length of the review is less than `max_len`, you should pad the review with the `<PAD>` character up to the length of `max_len`. If the length is greater than `max_len`, then it should only return the first `max_len` words. The return type should be `torch.LongTensor`.\n",
        "\n",
        "*   <b>`get_label(self, idx) `</b>: Return the value `1` if the label for `idx` in the dataset is `positive`, and should return `0` if it is `negative`. The return type should be `torch.LongTensor`.\n",
        "\n",
        "*  <b> ` __len__(self) `:</b> Return the total number of reviews in the dataset as an `int`.\n",
        "\n",
        "*   <b>` __getitem__(self, idx)`:</b> <b>[10 points]</b> Return the (padded) text, and the label. The return type for both these items should be `torch.LongTensor`. You should use the ` get_label(self, idx) ` and ` get_text(self, idx) ` functions here.\n",
        "\n",
        "\n",
        "<b>Note:</b> You should convert all words to lower case in your functions.\n",
        "\n",
        "<b>Autograder Hint:</b> Make sure that you use instance variables such as `self.threshold` throughout your code, rather than the global variable `THRESHOLD` (defined later on). The variable `THRESHOLD` will not be known to the autograder, and the use of it within the class will cause an autograder error."
      ]
    },
    {
      "cell_type": "code",
      "metadata": {
        "id": "1irMn3LX2YDB"
      },
      "source": [
        "PAD = '<PAD>'\n",
        "END = '<END>'\n",
        "UNK = '<UNK>'\n",
        "\n",
        "class TextDataset(data.Dataset):\n",
        "    def __init__(self, examples, split, threshold, max_len, idx2word=None, word2idx=None):\n",
        "\n",
        "        self.examples = examples\n",
        "        assert split in {'train', 'val', 'test'}\n",
        "        self.split = split\n",
        "        self.threshold = threshold\n",
        "        self.max_len = max_len\n",
        "\n",
        "        # Dictionaries\n",
        "        self.idx2word = idx2word\n",
        "        self.word2idx = word2idx\n",
        "        if split == 'train':\n",
        "            self.build_dictionary()\n",
        "        self.vocab_size = len(self.word2idx)\n",
        "        \n",
        "        # Convert text to indices\n",
        "        self.textual_ids = []\n",
        "        self.convert_text()\n",
        "\n",
        "    \n",
        "    def build_dictionary(self): \n",
        "        '''\n",
        "        Build the dictionaries idx2word and word2idx. This is only called when split='train', as these\n",
        "        dictionaries are passed in to the __init__(...) function otherwise. Be sure to use self.threshold\n",
        "        to control which words are assigned indices in the dictionaries.\n",
        "        Returns nothing.\n",
        "        '''\n",
        "        assert self.split == 'train'\n",
        "        \n",
        "        # Don't change this\n",
        "        self.idx2word = {0:PAD, 1:END, 2: UNK}\n",
        "        self.word2idx = {PAD:0, END:1, UNK: 2}\n",
        "\n",
        "        ##### TODO #####\n",
        "        # Count the frequencies of all words in the training data (self.examples)\n",
        "        # Assign idx (starting from 3) to all words having word_freq >= self.threshold\n",
        "        # Make sure you call word.lower() on each word to convert it to lowercase\n",
        "        dict_count = {}\n",
        "        for i in range(len(self.examples)):\n",
        "          for j in range(len(self.examples[i][1])):\n",
        "            if self.examples[i][1][j].lower() in dict_count:\n",
        "              dict_count[self.examples[i][1][j].lower()] += 1\n",
        "            else:\n",
        "              dict_count[self.examples[i][1][j].lower()] = 1\n",
        "        \n",
        "        k = 3\n",
        "        for key in dict_count.keys():\n",
        "            if dict_count[key] >= self.threshold:\n",
        "              self.idx2word[k] = key\n",
        "              self.word2idx[key] = k\n",
        "              k += 1\n",
        "        \n",
        "        pass\n",
        "    \n",
        "    def convert_text(self):\n",
        "        '''\n",
        "        Convert each review in the dataset (self.examples) to a list of indices, given by self.word2idx.\n",
        "        Store this in self.textual_ids; returns nothing.\n",
        "        '''\n",
        "\n",
        "        ##### TODO #####\n",
        "        # Remember to replace a word with the <UNK> token if it does not exist in the word2idx dictionary.\n",
        "        # Remember to append the <END> token to the end of each review.\n",
        "      \n",
        "        for i in range(len(self.examples)):\n",
        "          arr = []\n",
        "          for j in range(len(self.examples[i][1])):\n",
        "            if self.examples[i][1][j].lower() in self.word2idx:\n",
        "              arr.append(self.word2idx[self.examples[i][1][j].lower()])\n",
        "            else:\n",
        "              arr.append(self.word2idx[UNK])\n",
        "          arr.append(self.word2idx[END])\n",
        "          self.textual_ids.append(arr)\n",
        "        pass\n",
        "\n",
        "    def get_text(self, idx):\n",
        "        '''\n",
        "        Return the review at idx as a long tensor (torch.LongTensor) of integers corresponding to the words in the review.\n",
        "        You may need to pad as necessary (see above).\n",
        "        '''\n",
        "        arr = []\n",
        "        if len(self.examples[idx][1]) >= self.max_len:\n",
        "          for i in range(self.max_len):\n",
        "            if self.examples[idx][1][i].lower() in self.word2idx:\n",
        "              arr.append(self.word2idx[self.examples[idx][1][i].lower()])\n",
        "            else:\n",
        "              arr.append(self.word2idx[UNK])\n",
        "        else:\n",
        "          for i in range(len(self.examples[idx][1])):\n",
        "            if self.examples[idx][1][i].lower() in self.word2idx:\n",
        "              arr.append(self.word2idx[self.examples[idx][1][i].lower()])\n",
        "            else:\n",
        "              arr.append(self.word2idx[UNK])\n",
        "          for i in range(len(self.examples[idx][1]), self.max_len):\n",
        "            arr.append(self.word2idx[PAD])\n",
        "        if self.examples[idx][0] == 'pos':\n",
        "          b = 1\n",
        "        else:\n",
        "          b = 0\n",
        "        ##### TODO #####\n",
        "        a = torch.LongTensor(arr)\n",
        "        return a\n",
        "    \n",
        "    def get_label(self, idx):\n",
        "        '''\n",
        "        This function should return the value 1 if the label for idx in the dataset is 'positive', \n",
        "        and 0 if it is 'negative'. The return type should be torch.LongTensor.\n",
        "        '''\n",
        "\n",
        "  \n",
        "        if self.examples[idx][0] == 'pos':\n",
        "          b = 1\n",
        "        else:\n",
        "          b = 0\n",
        "        ##### TODO #####\n",
        "        return torch.tensor(b)\n",
        "\n",
        "    def __len__(self):\n",
        "        '''\n",
        "        Return the number of reviews (int value) in the dataset\n",
        "        '''\n",
        "        ##### TODO #####\n",
        "        return len(self.examples)\n",
        "    \n",
        "    def __getitem__(self, idx):\n",
        "        '''\n",
        "        Return the review, and label of the review specified by idx.\n",
        "        '''\n",
        "        ##### TODO #####\n",
        "        return self.get_text(idx), self.get_label(idx)"
      ],
      "execution_count": null,
      "outputs": []
    },
    {
      "cell_type": "code",
      "metadata": {
        "id": "HSxpGXj6ml9N"
      },
      "source": [
        "if __name__=='__main__':\n",
        "    # Sample item\n",
        "    Ds = TextDataset(train_data, 'train', threshold=10, max_len=1)\n",
        "    print('Vocab size:', Ds.vocab_size)\n",
        "\n",
        "    text, label = Ds[random.randint(0, len(Ds))]\n",
        "    print('Example text:', text)\n",
        "    print('Example label:', label)"
      ],
      "execution_count": null,
      "outputs": []
    },
    {
      "cell_type": "markdown",
      "metadata": {
        "id": "e_4FFhulaAod"
      },
      "source": [
        "# Step 3: Train a Convolutional Neural Network (CNN) [40 points]"
      ]
    },
    {
      "cell_type": "markdown",
      "metadata": {
        "id": "VcSKydlClwOC"
      },
      "source": [
        "## <font color='red'>TODO:</font> Define the CNN Model [20 points]\n",
        "Here you will define your convolutional neural network for text classification. We provide you with the CNN class, you need to fill in parts of the `__init__(...)` and `forward(...)` functions. Each of these functions is worth 10 points.\n",
        "\n",
        "We have provided you with instructions and hints in the comments. In particular, pay attention to the desired shapes; you may find it helpful to print the shape of the tensors as you code. It may also help to keep PyTorch documentation open for the modules & functions you are using, since they describe input and output dimensions."
      ]
    },
    {
      "cell_type": "code",
      "metadata": {
        "id": "0ztuy2hUaAof"
      },
      "source": [
        "class CNN(nn.Module):\n",
        "    def __init__(self, vocab_size, embed_size, out_channels, filter_heights, stride, dropout, num_classes, pad_idx):\n",
        "        super(CNN, self).__init__()\n",
        "        \n",
        "        ##### TODO #####\n",
        "        # Create an embedding layer (https://pytorch.org/docs/stable/generated/torch.nn.Embedding.html)\n",
        "        #   to represent the words in your vocabulary. Make sure to use vocab_size, embed_size, and pad_idx here.\n",
        "        \n",
        "        self.embed = nn.Embedding(vocab_size, embed_size, padding_idx = pad_idx, device = device)\n",
        "\n",
        "        # Define multiple Convolution layers (nn.Conv2d) with filter (kernel) size [filter_height, embed_size] based on your \n",
        "        #   different filter_heights.\n",
        "\n",
        "        self.convolution = nn.ModuleList([nn.Conv2d(in_channels = 1, out_channels = out_channels, stride = stride, kernel_size = (i, embed_size)) for i in filter_heights]).to(device)\n",
        "        # Input channels will be 1 and output channels will be out_channels (these many different filters will be trained \n",
        "        #   for each convolution layer)\n",
        "        # If you want, you can store a list of modules inside nn.ModuleList.\n",
        "        # Note: even though your conv layers are nn.Conv2d, we are doing a 1d convolution since we are only moving the filter \n",
        "        #   in one direction\n",
        "        \n",
        "\n",
        "        # Create a dropout layer (nn.Dropout) using dropout\n",
        "        self.dropout = nn.Dropout(dropout).to(device)        \n",
        "\n",
        "        # Define a linear layer (nn.Linear) that consists of num_classes units \n",
        "        #   and takes as input the concatenated output for all cnn layers (out_channels * num_of_cnn_layers units)\n",
        "        self.linear = nn.Linear(out_channels * len(filter_heights), num_classes, bias = True).to(device)\n",
        "\n",
        "\n",
        "    def forward(self, texts):\n",
        "        \"\"\"\n",
        "        texts: LongTensor [batch_size, max_len]\n",
        "        \n",
        "        Returns output: Tensor [batch_size, num_classes]\n",
        "        \"\"\"\n",
        "        ##### TODO #####\n",
        "\n",
        "        # Pass texts through your embedding layer to convert from word ids to word embeddings\n",
        "        #   Resulting: shape: [batch_size, max_len, embed_size]\n",
        "        embedd = self.embed(texts).unsqueeze(1)\n",
        "        # Input to conv should have 1 channel. Take a look at torch's unsqueeze() function\n",
        "        #   Resulting shape: [batch_size, 1, MAX_LEN, embed_size]\n",
        "        \n",
        "        \n",
        "        # Pass these texts to each of your conv layers and compute their output as follows:\n",
        "        #   Your cnn output will have shape [batch_size, out_channels, *, 1] where * depends on filter_height and stride\n",
        "        #   Convert to shape [batch_size, out_channels, *] (see torch's squeeze() function)\n",
        "        #   Apply non-linearity on it (F.relu() is a commonly used one. Feel free to try others)\n",
        "        #   Take the max value across last dimension to have shape [batch_size, out_channels]\n",
        "        # Concatenate (torch.cat) outputs from all your cnns [batch_size, (out_channels*num_of_cnn_layers)]\n",
        "        #\n",
        "        convolved = [F.relu(conv(embedd).squeeze(3)) for conv in self.convolution]\n",
        "        max = [F.max_pool1d(conv, conv.shape[2]).squeeze(2) for conv in convolved]\n",
        "        concatenate = torch.cat(max, dim = 1)\n",
        "        drop = self.dropout(concatenate)\n",
        "        return self.linear(drop)\n",
        "\n",
        "        \n",
        "\n",
        "        # Let's understand what you just did:\n",
        "        #   Since each cnn is of different filter_height, it will look at different number of words at a time\n",
        "        #     So, a filter_height of 3 means your cnn looks at 3 words (3-grams) at a time and tries to extract some information from it\n",
        "        #   Each cnn will learn out_channels number of features from the words it sees at a time\n",
        "        #   Then you applied a non-linearity and took the max value for all channels\n",
        "        #     You are essentially trying to find important n-grams from the entire text\n",
        "        # Everything happens on a batch simultaneously hence you have that additional batch_size as the first dimension\n",
        "\n",
        "        # Apply dropout\n",
        "        \n",
        "\n",
        "        # Pass your output through the linear layer and return its output \n",
        "        #   Resulting shape: [batch_size, num_classes]\n",
        "        \n",
        "\n",
        "        ##### NOTE: Do not apply a sigmoid or softmax to the final output - done in training method!\n",
        "\n",
        "        return None"
      ],
      "execution_count": null,
      "outputs": []
    },
    {
      "cell_type": "markdown",
      "metadata": {
        "id": "FupiBIfasCu_"
      },
      "source": [
        "## Train CNN Model\n",
        "\n",
        "First, we initialize the train and test <b>dataloaders</b>. A dataloader is responsible for providing batches of data to your model. Notice how we first instantiate datasets for the train and test data, and that we use the training vocabulary for both.\n",
        "\n",
        "You do not need to edit this cell."
      ]
    },
    {
      "cell_type": "code",
      "metadata": {
        "id": "J2QYl334n9ON"
      },
      "source": [
        "if __name__=='__main__':\n",
        "    THRESHOLD = 5 # Don't change this\n",
        "    MAX_LEN = 100 # Don't change this\n",
        "    BATCH_SIZE = 32 # Feel free to try other batch sizes\n",
        "\n",
        "    train_Ds = TextDataset(train_data, 'train', THRESHOLD, MAX_LEN)\n",
        "    train_loader = torch.utils.data.DataLoader(train_Ds, batch_size=BATCH_SIZE, shuffle=True, num_workers=2, drop_last=True)\n",
        "\n",
        "    test_Ds = TextDataset(test_data, 'test', THRESHOLD, MAX_LEN, train_Ds.idx2word, train_Ds.word2idx)\n",
        "    test_loader = torch.utils.data.DataLoader(test_Ds, batch_size=1, shuffle=False, num_workers=1, drop_last=False)"
      ],
      "execution_count": null,
      "outputs": []
    },
    {
      "cell_type": "markdown",
      "metadata": {
        "id": "AvsctopWmeoY"
      },
      "source": [
        "Now we provide you with a function that takes your model and trains it on the data.\n",
        "\n",
        "You do not need to edit this cell. However, you may want to write code to save your model periodically, as Colab connections are not permanent. See the tutorial here if you wish to do this: https://pytorch.org/tutorials/beginner/saving_loading_models.html."
      ]
    },
    {
      "cell_type": "code",
      "metadata": {
        "id": "LD-Jj2rUFOzr"
      },
      "source": [
        "### DO NOT EDIT ###\n",
        "\n",
        "from tqdm.notebook import tqdm\n",
        "\n",
        "def train_model(model, num_epochs, data_loader, optimizer, criterion):\n",
        "    print('Training Model...')\n",
        "    model.train()\n",
        "    for epoch in tqdm(range(num_epochs)):\n",
        "        epoch_loss = 0\n",
        "        epoch_acc = 0\n",
        "        for texts, labels in data_loader:\n",
        "            texts = texts.to(device) # shape: [batch_size, MAX_LEN]\n",
        "            labels = labels.to(device) # shape: [batch_size]\n",
        "\n",
        "            optimizer.zero_grad()\n",
        "\n",
        "            output = model(texts)\n",
        "            acc = accuracy(output, labels)\n",
        "            \n",
        "            loss = criterion(output, labels)\n",
        "            loss.backward()\n",
        "            optimizer.step()\n",
        "\n",
        "            epoch_loss += loss.item()\n",
        "            epoch_acc += acc.item()\n",
        "        print('[TRAIN]\\t Epoch: {:2d}\\t Loss: {:.4f}\\t Train Accuracy: {:.2f}%'.format(epoch+1, epoch_loss/len(data_loader), 100*epoch_acc/len(data_loader)))\n",
        "    print('Model Trained!\\n')"
      ],
      "execution_count": null,
      "outputs": []
    },
    {
      "cell_type": "markdown",
      "metadata": {
        "id": "FyIZS0WUhFA6"
      },
      "source": [
        "Here are some other helper functions we will need."
      ]
    },
    {
      "cell_type": "code",
      "metadata": {
        "id": "zVP2scuyhG5f"
      },
      "source": [
        "### DO NOT EDIT ###\n",
        "\n",
        "def count_parameters(model):\n",
        "    \"\"\"\n",
        "    Count number of trainable parameters in the model\n",
        "    \"\"\"\n",
        "    return sum(p.numel() for p in model.parameters() if p.requires_grad)\n",
        "\n",
        "\n",
        "def accuracy(output, labels):\n",
        "    \"\"\"\n",
        "    Returns accuracy per batch\n",
        "    output: Tensor [batch_size, n_classes]\n",
        "    labels: LongTensor [batch_size]\n",
        "    \"\"\"\n",
        "    preds = output.argmax(dim=1) # find predicted class\n",
        "    correct = (preds == labels).sum().float() # convert into float for division \n",
        "    acc = correct / len(labels)\n",
        "    return acc"
      ],
      "execution_count": null,
      "outputs": []
    },
    {
      "cell_type": "markdown",
      "metadata": {
        "id": "YjvX5c6Isw9e"
      },
      "source": [
        "Now you can instantiate your model. We provide you with some recommended hyperparameters; you should be able to get the desired accuracy with these, but feel free to play around with them."
      ]
    },
    {
      "cell_type": "code",
      "metadata": {
        "id": "M5UtdjGDuBty"
      },
      "source": [
        "if __name__=='__main__':\n",
        "    cnn_model = CNN(vocab_size = train_Ds.vocab_size, # Don't change this\n",
        "                embed_size = 128, \n",
        "                out_channels = 64, \n",
        "                filter_heights = [2, 3, 4], \n",
        "                stride = 1, \n",
        "                dropout = 0.5, \n",
        "                num_classes = 2, # Don't change this\n",
        "                pad_idx = train_Ds.word2idx[PAD]) # Don't change this\n",
        "\n",
        "    # Put your model on the device (cuda or cpu)\n",
        "    cnn_model = cnn_model.to(device)\n",
        "    \n",
        "    print('The model has {:,d} trainable parameters'.format(count_parameters(cnn_model)))"
      ],
      "execution_count": null,
      "outputs": []
    },
    {
      "cell_type": "markdown",
      "metadata": {
        "id": "SeHpqw6zvkhI"
      },
      "source": [
        "Next, we create the **criterion**, which is our loss function: it is a measure of how well the model matches the empirical distribution of the data. We use cross-entropy loss (https://en.wikipedia.org/wiki/Cross_entropy).\n",
        "\n",
        "We also define the **optimizer**, which performs gradient descent. We use the Adam optimizer (https://arxiv.org/pdf/1412.6980.pdf), which has been shown to work well on these types of models."
      ]
    },
    {
      "cell_type": "code",
      "metadata": {
        "id": "FoeyQL4PoNoH"
      },
      "source": [
        "if __name__=='__main__':    \n",
        "    LEARNING_RATE = 5e-4 # Feel free to try other learning rates\n",
        "\n",
        "    # Define the loss function\n",
        "    criterion = nn.CrossEntropyLoss().to(device)\n",
        "\n",
        "    # Define the optimizer\n",
        "    optimizer = optim.Adam(cnn_model.parameters(), lr=LEARNING_RATE)"
      ],
      "execution_count": null,
      "outputs": []
    },
    {
      "cell_type": "markdown",
      "metadata": {
        "id": "RopLfAJ9wOHN"
      },
      "source": [
        "Finally, we can train the model."
      ]
    },
    {
      "cell_type": "code",
      "metadata": {
        "id": "lPOs1FifoNoN"
      },
      "source": [
        "if __name__=='__main__':    \n",
        "    N_EPOCHS = 20 # Feel free to change this\n",
        "    \n",
        "    # train model for N_EPOCHS epochs\n",
        "    train_model(cnn_model, N_EPOCHS, train_loader, optimizer, criterion)"
      ],
      "execution_count": null,
      "outputs": []
    },
    {
      "cell_type": "markdown",
      "metadata": {
        "id": "Q-OJbZ72t6Yq"
      },
      "source": [
        "## Evaluate CNN Model [20 points]\n",
        "\n",
        "Now that we have trained a model for text classification, it is time to evaluate it. We have provided you with a function to do this; you do not need to modify anything.\n",
        "\n",
        "To pass the autograder for the CNN, you will need to achieve **73% accuracy** on the test set. Note that Gradescope uses a different test set; however, it is very similar, and the accuracies between the two datasets should be comparable."
      ]
    },
    {
      "cell_type": "code",
      "metadata": {
        "id": "vTiiYDZIF--7"
      },
      "source": [
        "### DO NOT EDIT ###\n",
        "\n",
        "import random\n",
        "\n",
        "def evaluate(model, data_loader, criterion):\n",
        "    print('Evaluating performance on the test dataset...')\n",
        "    model.eval()\n",
        "    epoch_loss = 0\n",
        "    epoch_acc = 0\n",
        "    all_predictions = []\n",
        "    print(\"\\nSOME PREDICTIONS FROM THE MODEL:\")\n",
        "    for texts, labels in tqdm(data_loader):\n",
        "        texts = texts.to(device)\n",
        "        labels = labels.to(device)\n",
        "        \n",
        "        output = model(texts)\n",
        "        acc = accuracy(output, labels)\n",
        "        pred = output.argmax(dim=1)\n",
        "        all_predictions.append(pred)\n",
        "        \n",
        "        loss = criterion(output, labels)\n",
        "        \n",
        "        epoch_loss += loss.item()\n",
        "        epoch_acc += acc.item()\n",
        "\n",
        "        if random.random() < 0.0015:\n",
        "            print(\"Input: \"+' '.join([data_loader.dataset.idx2word[idx] for idx in texts[0].tolist() if idx not in {data_loader.dataset.word2idx[PAD], data_loader.dataset.word2idx[END]}]))\n",
        "            print(\"Prediction:\", pred.item(), '\\tCorrect Output:', labels.item(), '\\n')\n",
        "\n",
        "    full_acc = 100*epoch_acc/len(data_loader)\n",
        "    full_loss = epoch_loss/len(data_loader)\n",
        "    print('[TEST]\\t Loss: {:.4f}\\t Accuracy: {:.2f}%'.format(full_loss, full_acc))\n",
        "    predictions = torch.cat(all_predictions)\n",
        "    return predictions, full_acc, full_loss"
      ],
      "execution_count": null,
      "outputs": []
    },
    {
      "cell_type": "code",
      "metadata": {
        "id": "Z718w8e0oNoS"
      },
      "source": [
        "if __name__=='__main__':\n",
        "    evaluate(cnn_model, test_loader, criterion) # Compute test data accuracy"
      ],
      "execution_count": null,
      "outputs": []
    },
    {
      "cell_type": "markdown",
      "metadata": {
        "id": "BRCFvjwDthiA"
      },
      "source": [
        "# Step 4: Train a Recurrent Neural Network (RNN) [40 points]\n",
        "You will now build a text clasification model that is based on **recurrences**."
      ]
    },
    {
      "cell_type": "markdown",
      "metadata": {
        "id": "Y-t8tlZviV2x"
      },
      "source": [
        "## <font color='red'>TODO:</font> Define the RNN Model [20 points]\n",
        "\n",
        "First, you will define the RNN. As with the CNN, we provide you with the skeleton of the class, and you need to fill in parts of the `__init__(...)` and `forward(...)` methods. Each of these functions is worth 10 points."
      ]
    },
    {
      "cell_type": "code",
      "metadata": {
        "id": "2nc_HxbP6klI"
      },
      "source": [
        "class RNN(nn.Module):\n",
        "    def __init__(self, vocab_size, embed_size, hidden_size, num_layers, bidirectional, dropout, num_classes, pad_idx):\n",
        "        super(RNN, self).__init__()\n",
        "        self.hidden_size = hidden_size\n",
        "        self.num_layers = num_layers\n",
        "\n",
        "        ##### TODO #####\n",
        "        \n",
        "        # Create an embedding layer (https://pytorch.org/docs/stable/generated/torch.nn.Embedding.html)\n",
        "        #   to represent the words in your vocabulary. Make sure to use vocab_size, embed_size, and pad_idx here.\n",
        "        \n",
        "        self.embed = nn.Embedding(vocab_size, embed_size, padding_idx = pad_idx, device = device).to(device)\n",
        "        # Create a recurrent network (use nn.GRU, not nn.LSTM) with batch_first = True\n",
        "        # Make sure you use hidden_size, num_layers, dropout, and bidirectional here.\n",
        "        self.rnn = nn.GRU(input_size = embed_size, hidden_size = hidden_size, num_layers = num_layers, bidirectional = bidirectional, batch_first = True).to(device)\n",
        "        \n",
        "        # Create a dropout layer (nn.Dropout) using dropout\n",
        "        self.dropout = nn.Dropout(dropout).to(device)\n",
        "\n",
        "        # Define a linear layer (nn.Linear) that consists of num_classes units \n",
        "        #   and takes as input the output of the last timestep. In the bidirectional case, you should concatenate\n",
        "        #   the output of the last timestep of the forward direction with the output of the last timestep of the backward direction).\n",
        "        if bidirectional:\n",
        "          self.linear = nn.Linear(hidden_size*2, num_classes)\n",
        "        else:\n",
        "          self.linear = nn.Linear(hidden_size, num_classes)\n",
        "        self.bidirectional = bidirectional\n",
        "\n",
        "\n",
        "    def forward(self, texts):\n",
        "        \"\"\"\n",
        "        texts: LongTensor [batch_size, MAX_LEN]\n",
        "        \n",
        "        Returns output: Tensor [batch_size, num_classes]\n",
        "        \"\"\"\n",
        "        ##### TODO #####\n",
        "\n",
        "        # Pass texts through your embedding layer to convert from word ids to word embeddings\n",
        "        #   Resulting: shape: [batch_size, max_len, embed_size]\n",
        "  \n",
        "        embedding = self.embed(texts)\n",
        "        # Pass the result through your recurrent network\n",
        "        #   See PyTorch documentation for resulting shape for nn.GRU\n",
        "        output, hidden = self.rnn(embedding)\n",
        "\n",
        "        \n",
        "        \n",
        "        # Concatenate the outputs of the last timestep for each direction (see torch.cat(...))\n",
        "        #   This depends on whether or not your model is bidirectional.\n",
        "        #   Resulting shape: [batch_size, num_dirs*hidden_size]\n",
        "\n",
        "        if self.bidirectional:\n",
        "          a = hidden.view(self.num_layers, 2, texts.size(0), self.hidden_size)\n",
        "          concatenate = torch.cat((a[-1][0], a[-1][1]), dim = 1)\n",
        "        else:\n",
        "          a = hidden.view(self.num_layers, 1, texts.size(0), self.hidden_size)\n",
        "          concatenate = torch.cat(a[-1], dim = 1)\n",
        "        \n",
        "\n",
        "        drop = self.dropout(concatenate)\n",
        "        return self.linear(drop)\n",
        "\n",
        "        \n",
        "      \n",
        "\n",
        "        \n",
        "        \n",
        "\n",
        "        # Apply dropout\n",
        "        \n",
        "\n",
        "        # Pass your output through the linear layer and return its output \n",
        "        #   Resulting shape: [batch_size, num_classes]\n",
        "        \n",
        "\n",
        "        ##### NOTE: Do not apply a sigmoid or softmax to the final output - done in training method!\n",
        "        \n",
        "        return None"
      ],
      "execution_count": null,
      "outputs": []
    },
    {
      "cell_type": "markdown",
      "metadata": {
        "id": "baD8lYAytdTV"
      },
      "source": [
        "## Train RNN Model\n",
        "First, we initialize the train and test dataloaders."
      ]
    },
    {
      "cell_type": "code",
      "metadata": {
        "id": "WCzNm8LDM5aT"
      },
      "source": [
        "if __name__=='__main__':\n",
        "    THRESHOLD = 5 # Don't change this\n",
        "    MAX_LEN = 100 # Don't change this\n",
        "    BATCH_SIZE = 32 # Feel free to try other batch sizes\n",
        "\n",
        "    train_Ds = TextDataset(train_data, 'train', THRESHOLD, MAX_LEN)\n",
        "    train_loader = torch.utils.data.DataLoader(train_Ds, batch_size=BATCH_SIZE, shuffle=True, num_workers=2, drop_last=True)\n",
        "\n",
        "    test_Ds = TextDataset(test_data, 'test', THRESHOLD, MAX_LEN, train_Ds.idx2word, train_Ds.word2idx)\n",
        "    test_loader = torch.utils.data.DataLoader(test_Ds, batch_size=1, shuffle=False, num_workers=1, drop_last=False)"
      ],
      "execution_count": null,
      "outputs": []
    },
    {
      "cell_type": "markdown",
      "metadata": {
        "id": "lp5pAz8emxi2"
      },
      "source": [
        "Now you can instantiate your model. We provide you with some recommended hyperparameters; you should be able to get the desired accuracy with these, but feel free to play around with them."
      ]
    },
    {
      "cell_type": "code",
      "metadata": {
        "id": "CA-UairGErap"
      },
      "source": [
        "if __name__=='__main__':\n",
        "    rnn_model = RNN(vocab_size = train_Ds.vocab_size, # Don't change this\n",
        "                embed_size = 128, \n",
        "                hidden_size = 128, \n",
        "                num_layers = 2,\n",
        "                bidirectional = True,\n",
        "                dropout = 0.5,\n",
        "                num_classes = 2, # Don't change this\n",
        "                pad_idx = train_Ds.word2idx[PAD]) # Don't change this\n",
        "\n",
        "    # Put your model on device\n",
        "    rnn_model = rnn_model.to(device)\n",
        "\n",
        "    print('The model has {:,d} trainable parameters'.format(count_parameters(rnn_model)))"
      ],
      "execution_count": null,
      "outputs": []
    },
    {
      "cell_type": "markdown",
      "metadata": {
        "id": "LqngFY4MoLec"
      },
      "source": [
        "Here, we create the criterion and optimizer; as with the CNN, we use cross-entropy loss and Adam optimization."
      ]
    },
    {
      "cell_type": "code",
      "metadata": {
        "id": "em6Rs58OlJ3Z"
      },
      "source": [
        "if __name__=='__main__':    \n",
        "    LEARNING_RATE = 5e-4 # Feel free to try other learning rates\n",
        "\n",
        "    # Define your loss function\n",
        "    criterion = nn.CrossEntropyLoss().to(device)\n",
        "\n",
        "    # Define your optimizer\n",
        "    optimizer = optim.Adam(rnn_model.parameters(), lr=LEARNING_RATE)"
      ],
      "execution_count": null,
      "outputs": []
    },
    {
      "cell_type": "markdown",
      "metadata": {
        "id": "uEPsi3choUm5"
      },
      "source": [
        "Finally, we can train the model. We use the same `train_model(...)` function that we defined for the CNN."
      ]
    },
    {
      "cell_type": "code",
      "metadata": {
        "id": "NR8Wckf0l2G7"
      },
      "source": [
        "if __name__=='__main__':    \n",
        "    N_EPOCHS = 15 # Feel free to change this\n",
        "    \n",
        "    # train model for N_EPOCHS epochs\n",
        "    train_model(rnn_model, N_EPOCHS, train_loader, optimizer, criterion)"
      ],
      "execution_count": null,
      "outputs": []
    },
    {
      "cell_type": "markdown",
      "metadata": {
        "id": "j-SRIFfooYk6"
      },
      "source": [
        "## Evaluate RNN Model [20 points]\n",
        "\n",
        "Now we can evaluate the RNN. \n",
        "\n",
        "To pass the autograder for the RNN, you will need to achieve **75% accuracy** on the test set. Note that Gradescope uses a different test set; however, it is very similar, and the accuracies between the two datasets should be comparable."
      ]
    },
    {
      "cell_type": "code",
      "metadata": {
        "id": "HYon4AbHl5_M"
      },
      "source": [
        "if __name__=='__main__':    \n",
        "    evaluate(rnn_model, test_loader, criterion) # Compute test data accuracy"
      ],
      "execution_count": null,
      "outputs": []
    },
    {
      "cell_type": "markdown",
      "metadata": {
        "id": "8WQAV6O2xHvS"
      },
      "source": [
        "# What You Need to Submit\n",
        "\n",
        "To submit the assignment, download this notebook as a <TT>.py</TT> file. You can do this by going to <TT>File > Download > Download .py</TT>. Then rename it to `hwk2.py`.\n",
        "\n",
        "You will also need to save the `cnn_model` and `rnn_model`. You can run the cell below to do this. After you save the files to your Google Drive, you need to manually download the files to your computer, and then submit them to the autograder.\n",
        "\n",
        "You will submit the following files to the autograder:\n",
        "1.   `hwk2.py`, the download of this notebook as a `.py` file (**not** a `.ipynb` file)\n",
        "1.   `cnn.pt`, the saved version of your `cnn_model`\n",
        "1.   `rnn.pt`, the saved version of your `rnn_model`"
      ]
    },
    {
      "cell_type": "code",
      "metadata": {
        "id": "abbbMNi8X_ai"
      },
      "source": [
        "### DO NOT EDIT ###\n",
        "\n",
        "if __name__=='__main__':\n",
        "    from google.colab import drive\n",
        "    drive.mount('/content/drive')\n",
        "    print()\n",
        "\n",
        "    try:\n",
        "        cnn_model is None\n",
        "        cnn_exists = True\n",
        "    except:\n",
        "        cnn_exists = False\n",
        "\n",
        "    try:\n",
        "        rnn_model is None\n",
        "        rnn_exists = True\n",
        "    except:\n",
        "        rnn_exists = False\n",
        "\n",
        "    if cnn_exists:\n",
        "        print(\"Saving CNN model....\") \n",
        "        torch.save(cnn_model, \"drive/My Drive/cnn.pt\")\n",
        "    if rnn_exists:\n",
        "        print(\"Saving RNN model....\") \n",
        "        torch.save(rnn_model, \"drive/My Drive/rnn.pt\")\n",
        "    print(\"Done!\")"
      ],
      "execution_count": null,
      "outputs": []
    }
  ]
}
